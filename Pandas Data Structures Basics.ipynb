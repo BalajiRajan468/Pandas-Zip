{
 "cells": [
  {
   "cell_type": "markdown",
   "id": "04fe9d30",
   "metadata": {},
   "source": [
    "Use functions to create and load manual data\n",
    "\n",
    "Describe the Series object\n",
    "\n",
    "Describe the DataFrame object\n",
    "\n",
    "Identify basic operations on Series objects\n",
    "\n",
    "Identify basic operations on DataFrame objects\n",
    "\n",
    "Perform conditional subsetting, fancy slicing, and indexing\n",
    "\n",
    "Use methods to save data"
   ]
  },
  {
   "cell_type": "code",
   "execution_count": 5,
   "id": "a11eefe5",
   "metadata": {},
   "outputs": [],
   "source": [
    "# Series == list == ndarray"
   ]
  },
  {
   "cell_type": "code",
   "execution_count": 6,
   "id": "2ce36353",
   "metadata": {},
   "outputs": [
    {
     "name": "stdout",
     "output_type": "stream",
     "text": [
      "0    banana\n",
      "1        45\n",
      "dtype: object\n"
     ]
    }
   ],
   "source": [
    "import pandas as pd\n",
    "s = pd.Series(['banana',45])\n",
    "print(s)"
   ]
  },
  {
   "cell_type": "code",
   "execution_count": 7,
   "id": "90ee6945",
   "metadata": {},
   "outputs": [
    {
     "name": "stdout",
     "output_type": "stream",
     "text": [
      "one      web\n",
      "two    world\n",
      "dtype: object\n"
     ]
    }
   ],
   "source": [
    "#manually assign index value to the Series \n",
    "\n",
    "spe = pd.Series(data =['web','world'],index=['one','two'])\n",
    "print(spe)"
   ]
  },
  {
   "cell_type": "code",
   "execution_count": 8,
   "id": "63597e8d",
   "metadata": {},
   "outputs": [
    {
     "name": "stdout",
     "output_type": "stream",
     "text": [
      "       Occupation  Born  Age\n",
      "Balaji  Developer  1995   28\n",
      "Rajan    Business  1963   60\n"
     ]
    }
   ],
   "source": [
    "#create a dataFrame\n",
    "scientist = pd.DataFrame(\n",
    "data = {\n",
    "   \"Occupation\" : [\"Developer\",\"Business\"],\n",
    "   \"Born\" : [1995,1963],\n",
    "   \"Age\" : [28,60]\n",
    "},\n",
    "index = [\"Balaji\",\"Rajan\"],\n",
    "columns = [\"Occupation\",\"Born\",\"Age\"]\n",
    ")\n",
    "print(scientist)"
   ]
  },
  {
   "cell_type": "code",
   "execution_count": 9,
   "id": "43c1c223",
   "metadata": {},
   "outputs": [
    {
     "data": {
      "text/plain": [
       "Occupation    Developer\n",
       "Born               1995\n",
       "Age                  28\n",
       "Name: Balaji, dtype: object"
      ]
     },
     "execution_count": 9,
     "metadata": {},
     "output_type": "execute_result"
    }
   ],
   "source": [
    "first_row = scientist.loc['Balaji']\n",
    "first_row"
   ]
  },
  {
   "cell_type": "code",
   "execution_count": 10,
   "id": "166b7741",
   "metadata": {},
   "outputs": [
    {
     "data": {
      "text/plain": [
       "Index(['Occupation', 'Born', 'Age'], dtype='object')"
      ]
     },
     "execution_count": 10,
     "metadata": {},
     "output_type": "execute_result"
    }
   ],
   "source": [
    "first_row.index"
   ]
  },
  {
   "cell_type": "code",
   "execution_count": 11,
   "id": "40f64fa7",
   "metadata": {},
   "outputs": [
    {
     "data": {
      "text/plain": [
       "array(['Developer', 1995, 28], dtype=object)"
      ]
     },
     "execution_count": 11,
     "metadata": {},
     "output_type": "execute_result"
    }
   ],
   "source": [
    "first_row.values"
   ]
  },
  {
   "cell_type": "code",
   "execution_count": 12,
   "id": "4d120d34",
   "metadata": {},
   "outputs": [
    {
     "data": {
      "text/plain": [
       "Index(['Occupation', 'Born', 'Age'], dtype='object')"
      ]
     },
     "execution_count": 12,
     "metadata": {},
     "output_type": "execute_result"
    }
   ],
   "source": [
    "first_row.keys()"
   ]
  },
  {
   "cell_type": "code",
   "execution_count": 13,
   "id": "d7e1a440",
   "metadata": {},
   "outputs": [
    {
     "name": "stdout",
     "output_type": "stream",
     "text": [
      "Balaji    28\n",
      "Rajan     60\n",
      "Name: Age, dtype: int64\n"
     ]
    }
   ],
   "source": [
    "ages = scientist['Age']\n",
    "print(ages)"
   ]
  },
  {
   "cell_type": "code",
   "execution_count": 14,
   "id": "64899873",
   "metadata": {},
   "outputs": [
    {
     "data": {
      "text/plain": [
       "44.0"
      ]
     },
     "execution_count": 14,
     "metadata": {},
     "output_type": "execute_result"
    }
   ],
   "source": [
    "ages.mean()"
   ]
  },
  {
   "cell_type": "code",
   "execution_count": 15,
   "id": "dd0afc9e",
   "metadata": {},
   "outputs": [
    {
     "data": {
      "text/plain": [
       "28"
      ]
     },
     "execution_count": 15,
     "metadata": {},
     "output_type": "execute_result"
    }
   ],
   "source": [
    "ages.min()"
   ]
  },
  {
   "cell_type": "code",
   "execution_count": 16,
   "id": "29e20fab",
   "metadata": {},
   "outputs": [
    {
     "data": {
      "text/plain": [
       "60"
      ]
     },
     "execution_count": 16,
     "metadata": {},
     "output_type": "execute_result"
    }
   ],
   "source": [
    "ages.max()"
   ]
  },
  {
   "cell_type": "code",
   "execution_count": 17,
   "id": "83aa4410",
   "metadata": {},
   "outputs": [
    {
     "data": {
      "text/plain": [
       "22.627416997969522"
      ]
     },
     "execution_count": 17,
     "metadata": {},
     "output_type": "execute_result"
    }
   ],
   "source": [
    "ages.std()"
   ]
  },
  {
   "cell_type": "code",
   "execution_count": 18,
   "id": "55df8785",
   "metadata": {},
   "outputs": [
    {
     "data": {
      "text/plain": [
       "512.0"
      ]
     },
     "execution_count": 18,
     "metadata": {},
     "output_type": "execute_result"
    }
   ],
   "source": [
    "ages.var()"
   ]
  },
  {
   "cell_type": "code",
   "execution_count": 19,
   "id": "9ab375f1",
   "metadata": {},
   "outputs": [
    {
     "data": {
      "text/plain": [
       "count     2.000000\n",
       "mean     44.000000\n",
       "std      22.627417\n",
       "min      28.000000\n",
       "25%      36.000000\n",
       "50%      44.000000\n",
       "75%      52.000000\n",
       "max      60.000000\n",
       "Name: Age, dtype: float64"
      ]
     },
     "execution_count": 19,
     "metadata": {},
     "output_type": "execute_result"
    }
   ],
   "source": [
    "ages.describe()"
   ]
  },
  {
   "cell_type": "code",
   "execution_count": 20,
   "id": "7128a4c3",
   "metadata": {},
   "outputs": [
    {
     "name": "stdout",
     "output_type": "stream",
     "text": [
      "Balaji    False\n",
      "Rajan      True\n",
      "Name: Age, dtype: bool\n"
     ]
    }
   ],
   "source": [
    "print(ages > ages.mean())"
   ]
  },
  {
   "cell_type": "code",
   "execution_count": 21,
   "id": "79ced07f",
   "metadata": {},
   "outputs": [
    {
     "name": "stdout",
     "output_type": "stream",
     "text": [
      "Rajan    60\n",
      "Name: Age, dtype: int64\n"
     ]
    }
   ],
   "source": [
    "print(ages[ages > ages.mean()])"
   ]
  },
  {
   "cell_type": "code",
   "execution_count": 22,
   "id": "f80432fc",
   "metadata": {},
   "outputs": [],
   "source": [
    "scientist[\"Age\"] = scientist[\"Age\"].sample(frac=1, random_state=42).values"
   ]
  },
  {
   "cell_type": "code",
   "execution_count": 23,
   "id": "61bf2bb6",
   "metadata": {},
   "outputs": [
    {
     "data": {
      "text/plain": [
       "Balaji    60\n",
       "Rajan     28\n",
       "Name: Age, dtype: int64"
      ]
     },
     "execution_count": 23,
     "metadata": {},
     "output_type": "execute_result"
    }
   ],
   "source": [
    "scientist[\"Age\"]"
   ]
  },
  {
   "cell_type": "code",
   "execution_count": 24,
   "id": "bf5c32b3",
   "metadata": {},
   "outputs": [],
   "source": [
    "#saving df to excel \n",
    "scientist.to_excel('scientists_names_series_df.xls',sheet_name = \"scientist\",engine='openpyxl')"
   ]
  },
  {
   "cell_type": "markdown",
   "id": "d3c77c0f",
   "metadata": {},
   "source": [
    "The format called “feather” is used to save DataFrames into a binary object that can also be loaded into other languages (e.g., R). The main benefit of this approach is that it is faster than writing and reading a CSV file between the languages"
   ]
  },
  {
   "cell_type": "markdown",
   "id": "3c10dc6a",
   "metadata": {},
   "source": [
    "The feather formatter is installed via conda install -c conda-forge pyarrow or pip install pyarrow. More on installing packages are described in"
   ]
  },
  {
   "cell_type": "markdown",
   "id": "a35d4be5",
   "metadata": {},
   "source": [
    "You can use the .to_feather() method on a dataframe to save the feather objects."
   ]
  },
  {
   "cell_type": "code",
   "execution_count": 25,
   "id": "da957ecd",
   "metadata": {},
   "outputs": [],
   "source": [
    "import pprint\n",
    "convertToDict = scientist.to_dict()"
   ]
  },
  {
   "cell_type": "code",
   "execution_count": 26,
   "id": "e2d5bc7c",
   "metadata": {},
   "outputs": [
    {
     "name": "stdout",
     "output_type": "stream",
     "text": [
      "{'Age': {'Balaji': 60, 'Rajan': 28},\n",
      " 'Born': {'Balaji': 1995, 'Rajan': 1963},\n",
      " 'Occupation': {'Balaji': 'Developer', 'Rajan': 'Business'}}\n"
     ]
    }
   ],
   "source": [
    "pprint.pprint(convertToDict)"
   ]
  },
  {
   "cell_type": "code",
   "execution_count": 30,
   "id": "2d6fc614",
   "metadata": {},
   "outputs": [
    {
     "name": "stdout",
     "output_type": "stream",
     "text": [
      "('[\\n'\n",
      " '  {\\n'\n",
      " '    \"Occupation\":\"Developer\",\\n'\n",
      " '    \"Born\":1995,\\n'\n",
      " '    \"Age\":60\\n'\n",
      " '  },\\n'\n",
      " '  {\\n'\n",
      " '    \"Occupation\":\"Business\",\\n'\n",
      " '    \"Born\":1963,\\n'\n",
      " '    \"Age\":28\\n'\n",
      " '  }\\n'\n",
      " ']')\n"
     ]
    }
   ],
   "source": [
    "sci_json = scientist.to_json(orient='records',indent=2)\n",
    "pprint.pprint(sci_json)"
   ]
  },
  {
   "cell_type": "code",
   "execution_count": null,
   "id": "7d2ab9a7",
   "metadata": {},
   "outputs": [],
   "source": []
  }
 ],
 "metadata": {
  "kernelspec": {
   "display_name": "Python 3 (ipykernel)",
   "language": "python",
   "name": "python3"
  },
  "language_info": {
   "codemirror_mode": {
    "name": "ipython",
    "version": 3
   },
   "file_extension": ".py",
   "mimetype": "text/x-python",
   "name": "python",
   "nbconvert_exporter": "python",
   "pygments_lexer": "ipython3",
   "version": "3.11.3"
  }
 },
 "nbformat": 4,
 "nbformat_minor": 5
}
